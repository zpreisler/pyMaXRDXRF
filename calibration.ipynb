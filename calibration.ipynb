{
 "cells": [
  {
   "cell_type": "code",
   "execution_count": 32,
   "id": "09c105de",
   "metadata": {},
   "outputs": [],
   "source": [
    "from numpy import array,arange,loadtxt\n",
    "from matplotlib.pyplot import show,figure,plot,xlim,ylim,legend\n",
    "from scipy.optimize import curve_fit"
   ]
  },
  {
   "cell_type": "code",
   "execution_count": 33,
   "id": "017aa8de",
   "metadata": {},
   "outputs": [],
   "source": [
    "def fce_linear(x,a,b):\n",
    "    return a * x + b"
   ]
  },
  {
   "cell_type": "code",
   "execution_count": 34,
   "id": "fe4a88c0",
   "metadata": {},
   "outputs": [],
   "source": [
    "def fce_quad(x,a,b,c):\n",
    "    return a * x + b * x**2 + c"
   ]
  },
  {
   "cell_type": "code",
   "execution_count": 35,
   "id": "d27640a6",
   "metadata": {},
   "outputs": [],
   "source": [
    "def fce_trip(x,a,b,c,d):\n",
    "    return a * x + b * x**2 + c * x**3 +d"
   ]
  },
  {
   "cell_type": "code",
   "execution_count": 50,
   "id": "7f924ca3",
   "metadata": {},
   "outputs": [],
   "source": [
    "z = loadtxt('calibration.ini',unpack=True)\n",
    "x,y = z"
   ]
  },
  {
   "cell_type": "code",
   "execution_count": 37,
   "id": "3fd478d9",
   "metadata": {},
   "outputs": [],
   "source": [
    "opt_lin,var=curve_fit(fce_linear,x,y)\n",
    "opt_quad,var=curve_fit(fce_quad,x,y)\n",
    "opt_trip,var=curve_fit(fce_trip,x,y)"
   ]
  },
  {
   "cell_type": "code",
   "execution_count": 38,
   "id": "c80b6e65",
   "metadata": {},
   "outputs": [
    {
     "data": {
      "text/plain": [
       "<matplotlib.legend.Legend at 0x7f6490e3cfd0>"
      ]
     },
     "execution_count": 38,
     "metadata": {},
     "output_type": "execute_result"
    },
    {
     "data": {
      "image/png": "[encoded data removed]",
      "text/plain": [
       "<Figure size 864x504 with 1 Axes>"
      ]
     },
     "metadata": {
      "needs_background": "light"
     },
     "output_type": "display_data"
    }
   ],
   "source": [
    "_x = arange(0,1280)\n",
    "\n",
    "figure(figsize=(12,7))\n",
    "\n",
    "plot(_x,fce_linear(_x,*opt_lin),'-.',label='linear')\n",
    "plot(_x,fce_quad(_x,*opt_quad),'--',label='quad')\n",
    "plot(_x,fce_trip(_x,*opt_trip),':',label='trip')\n",
    "plot(x,y,'+',ms=32,label='calibration points')\n",
    "\n",
    "xlim(0,1280)\n",
    "legend(frameon=False)\n"
   ]
  },
  {
   "cell_type": "code",
   "execution_count": 109,
   "id": "c3756ab8",
   "metadata": {},
   "outputs": [],
   "source": [
    "from numpy import array,append,pad,trim_zeros,where,swapaxes"
   ]
  },
  {
   "cell_type": "code",
   "execution_count": 103,
   "id": "b95d4b38",
   "metadata": {},
   "outputs": [],
   "source": [
    "x = array([[2,2,2,2],[3,3,3,3],[4,4,4,4],[5,5,5,5]])"
   ]
  },
  {
   "cell_type": "code",
   "execution_count": 104,
   "id": "f9540d0a",
   "metadata": {},
   "outputs": [
    {
     "data": {
      "text/plain": [
       "(array([[2, 2, 2, 2],\n",
       "        [4, 4, 4, 4]]),\n",
       " array([[3, 3, 3, 3],\n",
       "        [5, 5, 5, 5]]))"
      ]
     },
     "execution_count": 104,
     "metadata": {},
     "output_type": "execute_result"
    }
   ],
   "source": [
    "x[::2],x[1::2]"
   ]
  },
  {
   "cell_type": "code",
   "execution_count": 105,
   "id": "2572b7e3",
   "metadata": {},
   "outputs": [
    {
     "data": {
      "text/plain": [
       "array([[2, 2, 2, 2, 0],\n",
       "       [3, 3, 3, 3, 0],\n",
       "       [4, 4, 4, 4, 0],\n",
       "       [5, 5, 5, 5, 0]])"
      ]
     },
     "execution_count": 105,
     "metadata": {},
     "output_type": "execute_result"
    }
   ],
   "source": [
    "append(x,array([[0],[0],[0],[0]]),axis=1)"
   ]
  },
  {
   "cell_type": "code",
   "execution_count": 113,
   "id": "048cb358",
   "metadata": {},
   "outputs": [],
   "source": [
    "def ppad_p(x):\n",
    "    y0 = pad(x,((0,0,0),(1,0,0)))\n",
    "    y1 = pad(x,((0,0,0),(0,1,0)))\n",
    "    y0[0::2] = y1[0::2]\n",
    "    \n",
    "    return y0\n",
    "\n",
    "def ppad_m(x):\n",
    "    y0 = pad(x,((0,0),(1,0)))\n",
    "    y1 = pad(x,((0,0),(0,1)))\n",
    "    y0[1::2] = y1[1::2]\n",
    "    \n",
    "    return y0"
   ]
  },
  {
   "cell_type": "code",
   "execution_count": 145,
   "id": "03f58883",
   "metadata": {},
   "outputs": [
    {
     "data": {
      "text/plain": [
       "((4, 4, 3),\n",
       " array([[[2, 2, 2],\n",
       "         [3, 3, 3],\n",
       "         [4, 4, 4],\n",
       "         [5, 5, 5]],\n",
       " \n",
       "        [[2, 2, 2],\n",
       "         [3, 3, 3],\n",
       "         [4, 4, 4],\n",
       "         [5, 5, 5]],\n",
       " \n",
       "        [[2, 2, 2],\n",
       "         [3, 3, 3],\n",
       "         [4, 4, 4],\n",
       "         [5, 5, 5]],\n",
       " \n",
       "        [[2, 2, 2],\n",
       "         [3, 3, 3],\n",
       "         [4, 4, 4],\n",
       "         [5, 5, 5]]]))"
      ]
     },
     "execution_count": 145,
     "metadata": {},
     "output_type": "execute_result"
    }
   ],
   "source": [
    "xx = swapaxes(array([x,x,x]),0,2)\n",
    "xx.shape,xx"
   ]
  },
  {
   "cell_type": "code",
   "execution_count": 162,
   "id": "03d8dd73",
   "metadata": {},
   "outputs": [
    {
     "data": {
      "text/plain": [
       "(array([[[0, 0, 0],\n",
       "         [2, 2, 2],\n",
       "         [3, 3, 3],\n",
       "         [4, 4, 4],\n",
       "         [5, 5, 5]],\n",
       " \n",
       "        [[0, 0, 0],\n",
       "         [2, 2, 2],\n",
       "         [3, 3, 3],\n",
       "         [4, 4, 4],\n",
       "         [5, 5, 5]],\n",
       " \n",
       "        [[0, 0, 0],\n",
       "         [2, 2, 2],\n",
       "         [3, 3, 3],\n",
       "         [4, 4, 4],\n",
       "         [5, 5, 5]],\n",
       " \n",
       "        [[0, 0, 0],\n",
       "         [2, 2, 2],\n",
       "         [3, 3, 3],\n",
       "         [4, 4, 4],\n",
       "         [5, 5, 5]]]),\n",
       " array([[[2, 2, 2],\n",
       "         [3, 3, 3],\n",
       "         [4, 4, 4],\n",
       "         [5, 5, 5],\n",
       "         [0, 0, 0]],\n",
       " \n",
       "        [[2, 2, 2],\n",
       "         [3, 3, 3],\n",
       "         [4, 4, 4],\n",
       "         [5, 5, 5],\n",
       "         [0, 0, 0]],\n",
       " \n",
       "        [[2, 2, 2],\n",
       "         [3, 3, 3],\n",
       "         [4, 4, 4],\n",
       "         [5, 5, 5],\n",
       "         [0, 0, 0]],\n",
       " \n",
       "        [[2, 2, 2],\n",
       "         [3, 3, 3],\n",
       "         [4, 4, 4],\n",
       "         [5, 5, 5],\n",
       "         [0, 0, 0]]]))"
      ]
     },
     "execution_count": 162,
     "metadata": {},
     "output_type": "execute_result"
    }
   ],
   "source": [
    "yy = pad(xx,((0,0),(1,0),(0,0)))\n",
    "yy1 = pad(xx,((0,0),(0,1),(0,0)))\n",
    "yy,yy1"
   ]
  },
  {
   "cell_type": "code",
   "execution_count": 163,
   "id": "076867d0",
   "metadata": {},
   "outputs": [
    {
     "data": {
      "text/plain": [
       "array([[[2, 2, 2],\n",
       "        [3, 3, 3],\n",
       "        [4, 4, 4],\n",
       "        [5, 5, 5],\n",
       "        [0, 0, 0]],\n",
       "\n",
       "       [[0, 0, 0],\n",
       "        [2, 2, 2],\n",
       "        [3, 3, 3],\n",
       "        [4, 4, 4],\n",
       "        [5, 5, 5]],\n",
       "\n",
       "       [[2, 2, 2],\n",
       "        [3, 3, 3],\n",
       "        [4, 4, 4],\n",
       "        [5, 5, 5],\n",
       "        [0, 0, 0]],\n",
       "\n",
       "       [[0, 0, 0],\n",
       "        [2, 2, 2],\n",
       "        [3, 3, 3],\n",
       "        [4, 4, 4],\n",
       "        [5, 5, 5]]])"
      ]
     },
     "execution_count": 163,
     "metadata": {},
     "output_type": "execute_result"
    }
   ],
   "source": [
    "yy[::2,:,:] = yy1[::2,:,:]\n",
    "yy"
   ]
  },
  {
   "cell_type": "code",
   "execution_count": 96,
   "id": "5090c35c",
   "metadata": {},
   "outputs": [
    {
     "data": {
      "text/plain": [
       "array([[0, 0, 2, 2, 2],\n",
       "       [3, 3, 3, 0, 0],\n",
       "       [0, 0, 4, 4, 4],\n",
       "       [5, 5, 5, 0, 0]])"
      ]
     },
     "execution_count": 96,
     "metadata": {},
     "output_type": "execute_result"
    }
   ],
   "source": [
    "q = ppad_m(ppad_m(x))\n",
    "q"
   ]
  },
  {
   "cell_type": "code",
   "execution_count": 97,
   "id": "372171b3",
   "metadata": {},
   "outputs": [],
   "source": [
    "t = ppad_p(ppad_p(q))"
   ]
  },
  {
   "cell_type": "code",
   "execution_count": 98,
   "id": "71f521e2",
   "metadata": {},
   "outputs": [],
   "source": [
    "p = where(t != 0)\n",
    "t = t[min(p[0]) : max(p[0]) + 1, min(p[1]) : max(p[1]) + 1]"
   ]
  },
  {
   "cell_type": "code",
   "execution_count": 99,
   "id": "ea556048",
   "metadata": {},
   "outputs": [
    {
     "data": {
      "text/plain": [
       "array([[2, 2, 2],\n",
       "       [3, 3, 3],\n",
       "       [4, 4, 4],\n",
       "       [5, 5, 5]])"
      ]
     },
     "execution_count": 99,
     "metadata": {},
     "output_type": "execute_result"
    }
   ],
   "source": [
    "t"
   ]
  },
  {
   "cell_type": "code",
   "execution_count": null,
   "id": "f1754535",
   "metadata": {},
   "outputs": [],
   "source": []
  }
 ],
 "metadata": {
  "kernelspec": {
   "display_name": "Python 3 (ipykernel)",
   "language": "python",
   "name": "python3"
  },
  "language_info": {
   "codemirror_mode": {
    "name": "ipython",
    "version": 3
   },
   "file_extension": ".py",
   "mimetype": "text/x-python",
   "name": "python",
   "nbconvert_exporter": "python",
   "pygments_lexer": "ipython3",
   "version": "3.9.7"
  }
 },
 "nbformat": 4,
 "nbformat_minor": 5
}
